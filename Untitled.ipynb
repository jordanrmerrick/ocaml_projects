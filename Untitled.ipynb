{
 "cells": [
  {
   "cell_type": "code",
   "execution_count": 1,
   "metadata": {},
   "outputs": [
    {
     "name": "stderr",
     "output_type": "stream",
     "text": [
      "/Users/jordanmerrick/.opam/rwo/lib/base/base_internalhash_types: added to search path\n",
      "/Users/jordanmerrick/.opam/rwo/lib/base/base_internalhash_types/base_internalhash_types.cma: loaded\n",
      "/Users/jordanmerrick/.opam/rwo/lib/base/caml: added to search path\n",
      "/Users/jordanmerrick/.opam/rwo/lib/base/caml/caml.cma: loaded\n",
      "/Users/jordanmerrick/.opam/rwo/lib/base/shadow_stdlib: added to search path\n",
      "/Users/jordanmerrick/.opam/rwo/lib/base/shadow_stdlib/shadow_stdlib.cma: loaded\n",
      "/Users/jordanmerrick/.opam/rwo/lib/sexplib0: added to search path\n",
      "/Users/jordanmerrick/.opam/rwo/lib/sexplib0/sexplib0.cma: loaded\n",
      "/Users/jordanmerrick/.opam/rwo/lib/base: added to search path\n",
      "/Users/jordanmerrick/.opam/rwo/lib/base/base.cma: loaded\n",
      "/Users/jordanmerrick/.opam/rwo/lib/fieldslib: added to search path\n",
      "/Users/jordanmerrick/.opam/rwo/lib/fieldslib/fieldslib.cma: loaded\n",
      "/Users/jordanmerrick/.opam/rwo/lib/ppx_compare/runtime-lib: added to search path\n",
      "/Users/jordanmerrick/.opam/rwo/lib/ppx_compare/runtime-lib/ppx_compare_lib.cma: loaded\n",
      "/Users/jordanmerrick/.opam/rwo/lib/ppx_enumerate/runtime-lib: added to search path\n",
      "/Users/jordanmerrick/.opam/rwo/lib/ppx_enumerate/runtime-lib/ppx_enumerate_lib.cma: loaded\n",
      "/Users/jordanmerrick/.opam/rwo/lib/ppx_sexp_conv/runtime-lib: added to search path\n",
      "/Users/jordanmerrick/.opam/rwo/lib/ppx_sexp_conv/runtime-lib/ppx_sexp_conv_lib.cma: loaded\n",
      "/Users/jordanmerrick/.opam/rwo/lib/ppx_hash/runtime-lib: added to search path\n",
      "/Users/jordanmerrick/.opam/rwo/lib/ppx_hash/runtime-lib/ppx_hash_lib.cma: loaded\n",
      "/Users/jordanmerrick/.opam/rwo/lib/ppx_here/runtime-lib: added to search path\n",
      "/Users/jordanmerrick/.opam/rwo/lib/ppx_here/runtime-lib/ppx_here_lib.cma: loaded\n",
      "/Users/jordanmerrick/.opam/rwo/lib/ppx_assert/runtime-lib: added to search path\n",
      "/Users/jordanmerrick/.opam/rwo/lib/ppx_assert/runtime-lib/ppx_assert_lib.cma: loaded\n",
      "/Users/jordanmerrick/.opam/rwo/lib/ppx_bench/runtime-lib: added to search path\n",
      "/Users/jordanmerrick/.opam/rwo/lib/ppx_bench/runtime-lib/ppx_bench_lib.cma: loaded\n",
      "/Users/jordanmerrick/.opam/rwo/lib/ppx_inline_test/config: added to search path\n",
      "/Users/jordanmerrick/.opam/rwo/lib/ppx_inline_test/config/inline_test_config.cma: loaded\n",
      "/Users/jordanmerrick/.opam/rwo/lib/jane-street-headers: added to search path\n",
      "/Users/jordanmerrick/.opam/rwo/lib/jane-street-headers/jane_street_headers.cma: loaded\n",
      "/Users/jordanmerrick/.opam/rwo/lib/time_now: added to search path\n",
      "/Users/jordanmerrick/.opam/rwo/lib/time_now/time_now.cma: loaded\n",
      "/Users/jordanmerrick/.opam/rwo/lib/ppx_inline_test/runtime-lib: added to search path\n",
      "/Users/jordanmerrick/.opam/rwo/lib/ppx_inline_test/runtime-lib/ppx_inline_test_lib.cma: loaded\n",
      "/Users/jordanmerrick/.opam/rwo/lib/splittable_random: added to search path\n",
      "/Users/jordanmerrick/.opam/rwo/lib/splittable_random/splittable_random.cma: loaded\n",
      "/Users/jordanmerrick/.opam/rwo/lib/base_quickcheck: added to search path\n",
      "/Users/jordanmerrick/.opam/rwo/lib/base_quickcheck/base_quickcheck.cma: loaded\n",
      "/Users/jordanmerrick/.opam/rwo/lib/base/md5: added to search path\n",
      "/Users/jordanmerrick/.opam/rwo/lib/base/md5/md5_lib.cma: loaded\n",
      "/Users/jordanmerrick/.opam/rwo/lib/ocaml/unix.cma: loaded\n",
      "/Users/jordanmerrick/.opam/rwo/lib/ocaml/bigarray.cma: loaded\n",
      "/Users/jordanmerrick/.opam/rwo/lib/variantslib: added to search path\n",
      "/Users/jordanmerrick/.opam/rwo/lib/variantslib/variantslib.cma: loaded\n",
      "/Users/jordanmerrick/.opam/rwo/lib/bin_prot/shape: added to search path\n",
      "/Users/jordanmerrick/.opam/rwo/lib/bin_prot/shape/bin_shape_lib.cma: loaded\n",
      "/Users/jordanmerrick/.opam/rwo/lib/bin_prot: added to search path\n",
      "/Users/jordanmerrick/.opam/rwo/lib/bin_prot/bin_prot.cma: loaded\n",
      "/Users/jordanmerrick/.opam/rwo/lib/ppx_expect/common: added to search path\n",
      "/Users/jordanmerrick/.opam/rwo/lib/ppx_expect/common/expect_test_common.cma: loaded\n",
      "/Users/jordanmerrick/.opam/rwo/lib/ppx_expect/config_types: added to search path\n",
      "/Users/jordanmerrick/.opam/rwo/lib/ppx_expect/config_types/expect_test_config_types.cma: loaded\n",
      "/Users/jordanmerrick/.opam/rwo/lib/ppx_expect/collector: added to search path\n",
      "/Users/jordanmerrick/.opam/rwo/lib/ppx_expect/collector/expect_test_collector.cma: loaded\n",
      "/Users/jordanmerrick/.opam/rwo/lib/ppx_expect/config: added to search path\n",
      "/Users/jordanmerrick/.opam/rwo/lib/ppx_expect/config/expect_test_config.cma: loaded\n",
      "/Users/jordanmerrick/.opam/rwo/lib/stdio: added to search path\n",
      "/Users/jordanmerrick/.opam/rwo/lib/stdio/stdio.cma: loaded\n",
      "/Users/jordanmerrick/.opam/rwo/lib/ppx_module_timer/runtime: added to search path\n",
      "/Users/jordanmerrick/.opam/rwo/lib/ppx_module_timer/runtime/ppx_module_timer_runtime.cma: loaded\n",
      "/Users/jordanmerrick/.opam/rwo/lib/typerep: added to search path\n",
      "/Users/jordanmerrick/.opam/rwo/lib/typerep/typerep_lib.cma: loaded\n",
      "/Users/jordanmerrick/.opam/rwo/lib/base_bigstring: added to search path\n",
      "/Users/jordanmerrick/.opam/rwo/lib/base_bigstring/base_bigstring.cma: loaded\n",
      "/Users/jordanmerrick/.opam/rwo/lib/core_kernel/base_for_tests: added to search path\n",
      "/Users/jordanmerrick/.opam/rwo/lib/core_kernel/base_for_tests/base_for_tests.cma: loaded\n",
      "/Users/jordanmerrick/.opam/rwo/lib/parsexp: added to search path\n",
      "/Users/jordanmerrick/.opam/rwo/lib/parsexp/parsexp.cma: loaded\n",
      "/Users/jordanmerrick/.opam/rwo/lib/sexplib: added to search path\n",
      "/Users/jordanmerrick/.opam/rwo/lib/sexplib/sexplib.cma: loaded\n",
      "/Users/jordanmerrick/.opam/rwo/lib/core_kernel: added to search path\n",
      "/Users/jordanmerrick/.opam/rwo/lib/core_kernel/core_kernel.cma: loaded\n",
      "/Users/jordanmerrick/.opam/rwo/lib/core/error_checking_mutex: added to search path\n",
      "/Users/jordanmerrick/.opam/rwo/lib/core/error_checking_mutex/error_checking_mutex.cma: loaded\n",
      "/Users/jordanmerrick/.opam/rwo/lib/core_kernel/caml_unix: added to search path\n",
      "/Users/jordanmerrick/.opam/rwo/lib/core_kernel/caml_unix/caml_unix.cma: loaded\n",
      "/Users/jordanmerrick/.opam/rwo/lib/core_kernel/flags: added to search path\n",
      "/Users/jordanmerrick/.opam/rwo/lib/core_kernel/flags/flags.cma: loaded\n",
      "/Users/jordanmerrick/.opam/rwo/lib/core_kernel/version_util: added to search path\n",
      "/Users/jordanmerrick/.opam/rwo/lib/core_kernel/version_util/version_util.cma: loaded\n",
      "/Users/jordanmerrick/.opam/rwo/lib/sexplib/unix: added to search path\n",
      "/Users/jordanmerrick/.opam/rwo/lib/sexplib/unix/sexplib_unix.cma: loaded\n",
      "/Users/jordanmerrick/.opam/rwo/lib/spawn: added to search path\n",
      "/Users/jordanmerrick/.opam/rwo/lib/spawn/spawn.cma: loaded\n",
      "/Users/jordanmerrick/.opam/rwo/lib/timezone: added to search path\n",
      "/Users/jordanmerrick/.opam/rwo/lib/timezone/timezone.cma: loaded\n",
      "/Users/jordanmerrick/.opam/rwo/lib/core: added to search path\n",
      "/Users/jordanmerrick/.opam/rwo/lib/core/core.cma: loaded\n"
     ]
    }
   ],
   "source": [
    "#require \"core\";;"
   ]
  },
  {
   "cell_type": "code",
   "execution_count": 2,
   "metadata": {},
   "outputs": [],
   "source": [
    "open Core"
   ]
  },
  {
   "cell_type": "code",
   "execution_count": 4,
   "metadata": {},
   "outputs": [
    {
     "data": {
      "text/plain": [
       "val sum : int list -> int = <fun>\n"
      ]
     },
     "execution_count": 4,
     "metadata": {},
     "output_type": "execute_result"
    }
   ],
   "source": [
    "let sum ls =\n",
    "  match List.length ls with\n",
    "  | x when x >= 10000 ->\n",
    "    let rec helper acc ls =\n",
    "      match ls with\n",
    "      | [] -> acc\n",
    "      | h::h' -> helper (acc+h) h'\n",
    "    in\n",
    "    helper 0 ls\n",
    "  | _ ->\n",
    "    let rec sum_ ls =\n",
    "      match ls with\n",
    "      | [] -> 0\n",
    "      | h::h' -> h + sum_ h'\n",
    "    in\n",
    "    sum_ ls"
   ]
  },
  {
   "cell_type": "code",
   "execution_count": 5,
   "metadata": {},
   "outputs": [
    {
     "data": {
      "text/plain": [
       "- : int = 36\n"
      ]
     },
     "execution_count": 5,
     "metadata": {},
     "output_type": "execute_result"
    }
   ],
   "source": [
    "sum [1;2;3;4;5;6;7;8]"
   ]
  },
  {
   "cell_type": "code",
   "execution_count": 6,
   "metadata": {},
   "outputs": [
    {
     "data": {
      "text/plain": [
       "- : int = 15\n"
      ]
     },
     "execution_count": 6,
     "metadata": {},
     "output_type": "execute_result"
    }
   ],
   "source": [
    "sum [1;2;3;4;5]"
   ]
  },
  {
   "cell_type": "code",
   "execution_count": 7,
   "metadata": {},
   "outputs": [
    {
     "data": {
      "text/plain": [
       "- : int = 10\n"
      ]
     },
     "execution_count": 7,
     "metadata": {},
     "output_type": "execute_result"
    }
   ],
   "source": [
    "sum [1;2;3;4]"
   ]
  },
  {
   "cell_type": "code",
   "execution_count": 8,
   "metadata": {},
   "outputs": [
    {
     "ename": "error",
     "evalue": "compile_error",
     "output_type": "error",
     "traceback": [
      "File \"[8]\", line 1, characters 0-4:\n1 | this\n    ^^^^\nError: Unbound value this\n"
     ]
    }
   ],
   "source": [
    "this"
   ]
  },
  {
   "cell_type": "code",
   "execution_count": 9,
   "metadata": {},
   "outputs": [
    {
     "data": {
      "text/plain": [
       "- : float = 13.9500000000000011\n"
      ]
     },
     "execution_count": 9,
     "metadata": {},
     "output_type": "execute_result"
    }
   ],
   "source": [
    "167.4/.12."
   ]
  },
  {
   "cell_type": "code",
   "execution_count": null,
   "metadata": {},
   "outputs": [],
   "source": []
  }
 ],
 "metadata": {
  "kernelspec": {
   "display_name": "OCaml rwo",
   "language": "OCaml",
   "name": "ocaml-jupyter"
  },
  "language_info": {
   "codemirror_mode": "text/x-ocaml",
   "file_extension": ".ml",
   "mimetype": "text/x-ocaml",
   "name": "OCaml",
   "nbconverter_exporter": null,
   "pygments_lexer": "OCaml",
   "version": "4.09.0"
  }
 },
 "nbformat": 4,
 "nbformat_minor": 2
}
